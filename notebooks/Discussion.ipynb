{
 "cells": [
  {
   "cell_type": "markdown",
   "id": "030009f0",
   "metadata": {},
   "source": [
    "Components of the discussion section\n",
    "1. Comparison to previously reported cyclones: SHEBA\n",
    "    - Shaw et al. 2009\n",
    "2. Comparison to previously reported cyclones: N-ICE2015\n",
    "    - Meyer a/b for the ocean response. \n",
    "3. Comparison to previously reported cyclones: FRAMZY\n",
    "4. Comparison to the cyclone composite papers\n",
    "    - Spatial structure of winds\n",
    "    - Spatial structure of temperature\n",
    "    - Sea ice concentration change\n",
    "5. Summary of key features for comparison with model runs\n",
    "\n",
    "Lindsay 2002 - ice deformation near SHEBA. They used daily deformation values with buoys, AVHRR, SSMI, and RGPS. Total of 22 buoys over the year, not all operating at once, and they used the 12-hourly data from the buoys to estimate that 24-hour mean velocities. They also compared the 24-hour motion to the estimate from the geostrophic wind. They also used the line integral method for getting the approximation of the partial derivatives of velocity. Deformation rates from daily data differs from hourly data, and they were looking at deformation at a much larger scale - 100 km square. They describe two strong divergence/convergence events associated with storms - one in mid January, and one in August. They point out the challenge associated with measuring deformation of semi-rigid plates from sparse velocity measurements. In the case of a diagonal crack crossing a square polygon, they point out that shear along the crack will result in a measurement of opening or closing.\n",
    "\n",
    "Persson 2012 - weak summer cyclones associated with onset of melt season  \n",
    "Persson 2017 - winter cyclone in early January 1998  \n",
    "\n"
   ]
  }
 ],
 "metadata": {
  "kernelspec": {
   "display_name": "Python 3 (ipykernel)",
   "language": "python",
   "name": "python3"
  },
  "language_info": {
   "codemirror_mode": {
    "name": "ipython",
    "version": 3
   },
   "file_extension": ".py",
   "mimetype": "text/x-python",
   "name": "python",
   "nbconvert_exporter": "python",
   "pygments_lexer": "ipython3",
   "version": "3.9.13"
  }
 },
 "nbformat": 4,
 "nbformat_minor": 5
}
